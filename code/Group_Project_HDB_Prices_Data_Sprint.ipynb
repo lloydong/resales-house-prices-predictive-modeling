{
 "cells": [
  {
   "cell_type": "markdown",
   "metadata": {
    "cell_id": "c2d6fdf4385a451a99b802d2e4dca790",
    "deepnote_cell_type": "text-cell-h1",
    "formattedRanges": []
   },
   "source": [
    "#Reading CSV Files"
   ]
  },
  {
   "cell_type": "code",
   "execution_count": null,
   "metadata": {
    "cell_id": "631fcbc591f44a91a05686848da14d96",
    "deepnote_cell_type": "code",
    "execution_context_id": "668bbe48-be67-49b4-8429-5deaaf549af6",
    "execution_millis": 2,
    "execution_start": 1732154567997,
    "source_hash": "1676b6aa"
   },
   "outputs": [],
   "source": [
    "print(\"hello Jiayi and Amanda\")"
   ]
  },
  {
   "cell_type": "code",
   "execution_count": null,
   "metadata": {
    "cell_id": "15413d4dcf584c7694713f80a1f3692d",
    "deepnote_cell_type": "code",
    "execution_context_id": "668bbe48-be67-49b4-8429-5deaaf549af6",
    "execution_millis": 846,
    "execution_start": 1732154568049,
    "source_hash": "47f8bb6d"
   },
   "outputs": [],
   "source": [
    "# import the libraries we will need\n",
    "import pandas as pd\n",
    "import numpy as np\n",
    "import matplotlib.pyplot as plt\n",
    "%matplotlib inline\n",
    "import seaborn as sns"
   ]
  },
  {
   "cell_type": "code",
   "execution_count": null,
   "metadata": {
    "cell_id": "531158bce9a64640acc641b523061880",
    "deepnote_cell_type": "code",
    "execution_context_id": "668bbe48-be67-49b4-8429-5deaaf549af6",
    "execution_millis": 3552,
    "execution_start": 1732154568945,
    "source_hash": "2dcf503b"
   },
   "outputs": [],
   "source": [
    "test_df = pd.read_csv('./test.csv')\n",
    "train_df = pd.read_csv('./train.csv')"
   ]
  },
  {
   "cell_type": "code",
   "execution_count": null,
   "metadata": {
    "cell_id": "f6fa18e4237743bca1d23f89b964dbe8",
    "deepnote_cell_type": "code",
    "execution_context_id": "668bbe48-be67-49b4-8429-5deaaf549af6",
    "execution_millis": 1,
    "execution_start": 1732154572549,
    "source_hash": "2161aa25"
   },
   "outputs": [],
   "source": [
    "test_df.columns"
   ]
  },
  {
   "cell_type": "code",
   "execution_count": null,
   "metadata": {
    "cell_id": "cb0576eecb674af8b7467e09cc54d3eb",
    "deepnote_cell_type": "code",
    "execution_context_id": "668bbe48-be67-49b4-8429-5deaaf549af6",
    "execution_millis": 135,
    "execution_start": 1732154572605,
    "source_hash": "b1a8b3e0"
   },
   "outputs": [],
   "source": [
    "train_df.head()"
   ]
  },
  {
   "cell_type": "code",
   "execution_count": null,
   "metadata": {
    "cell_id": "9b2eb6aa2155456e9cd2b248b7a7d220",
    "deepnote_cell_type": "code",
    "execution_context_id": "668bbe48-be67-49b4-8429-5deaaf549af6",
    "execution_millis": 0,
    "execution_start": 1732154572786,
    "source_hash": "aa620045"
   },
   "outputs": [],
   "source": [
    "train_df.columns"
   ]
  },
  {
   "cell_type": "code",
   "execution_count": null,
   "metadata": {
    "cell_id": "fa70831088cf488f9f8dd6ac9489a8c4",
    "deepnote_cell_type": "code",
    "execution_context_id": "668bbe48-be67-49b4-8429-5deaaf549af6",
    "execution_millis": 1,
    "execution_start": 1732154572837,
    "source_hash": "d63c0cd"
   },
   "outputs": [],
   "source": [
    "train_df['town'].unique()"
   ]
  },
  {
   "cell_type": "code",
   "execution_count": null,
   "metadata": {
    "cell_id": "477bf1d49e1b429aaa35848db899fbfd",
    "deepnote_cell_type": "code",
    "execution_context_id": "668bbe48-be67-49b4-8429-5deaaf549af6",
    "execution_millis": 1,
    "execution_start": 1732154572893,
    "source_hash": "3689711a"
   },
   "outputs": [],
   "source": [
    "train_df['flat_type'].unique()"
   ]
  },
  {
   "cell_type": "markdown",
   "metadata": {
    "cell_id": "193f6695b12a40f88819f08ef5c87e6b",
    "deepnote_cell_type": "text-cell-h1",
    "formattedRanges": []
   },
   "source": [
    "#DATA CLEANING"
   ]
  },
  {
   "cell_type": "markdown",
   "metadata": {
    "cell_id": "4d300db25a79450e9e4c156c7584bfc4",
    "deepnote_cell_type": "text-cell-h2",
    "formattedRanges": []
   },
   "source": [
    "## Looking for columns with null values"
   ]
  },
  {
   "cell_type": "code",
   "execution_count": null,
   "metadata": {
    "cell_id": "3439397b4cbb4af9bd772cb279c9f243",
    "deepnote_cell_type": "code",
    "execution_context_id": "668bbe48-be67-49b4-8429-5deaaf549af6",
    "execution_millis": 151,
    "execution_start": 1732154572941,
    "source_hash": "242901f0"
   },
   "outputs": [],
   "source": [
    "train_df.isnull().sum()[train_df.isnull().sum() > 0]"
   ]
  },
  {
   "cell_type": "code",
   "execution_count": null,
   "metadata": {
    "cell_id": "2128f324a4ec4493b5dbecbb922fa496",
    "deepnote_cell_type": "code",
    "execution_context_id": "668bbe48-be67-49b4-8429-5deaaf549af6",
    "execution_millis": 1,
    "execution_start": 1732154573141,
    "source_hash": "68d39883"
   },
   "outputs": [],
   "source": [
    "# # Replacing null values with '0' in the columns 'Mall_Within_500m', 'Mall_Within_1km', 'Mall_Within_2km'.\n",
    "train_df.fillna(value = {'Mall_Within_500m': 0, 'Mall_Within_1km': 0, 'Mall_Within_2km': 0}, inplace = True)"
   ]
  },
  {
   "cell_type": "code",
   "execution_count": null,
   "metadata": {
    "cell_id": "b6e0f1bcff1645e9b608b1ad46c4cc4b",
    "deepnote_cell_type": "code",
    "execution_context_id": "668bbe48-be67-49b4-8429-5deaaf549af6",
    "execution_millis": 1,
    "execution_start": 1732154573189,
    "source_hash": "dfe0687a"
   },
   "outputs": [],
   "source": [
    "train_df[['Mall_Within_500m', 'Mall_Within_1km', 'Mall_Within_2km']].head(10)"
   ]
  },
  {
   "cell_type": "code",
   "execution_count": null,
   "metadata": {
    "cell_id": "d4e9db82c7674f19ba40862904ae487c",
    "deepnote_cell_type": "code",
    "execution_context_id": "668bbe48-be67-49b4-8429-5deaaf549af6",
    "execution_millis": 150,
    "execution_start": 1732154573237,
    "source_hash": "242901f0"
   },
   "outputs": [],
   "source": [
    "train_df.isnull().sum()[train_df.isnull().sum() > 0]"
   ]
  },
  {
   "cell_type": "code",
   "execution_count": null,
   "metadata": {
    "cell_id": "e809098c464e44a798dae1ca88e31b8a",
    "deepnote_cell_type": "code",
    "execution_context_id": "668bbe48-be67-49b4-8429-5deaaf549af6",
    "execution_millis": 1,
    "execution_start": 1732154573429,
    "source_hash": "3e401920"
   },
   "outputs": [],
   "source": [
    "train_df.dropna(subset = ['Mall_Nearest_Distance'], inplace = True)"
   ]
  },
  {
   "cell_type": "code",
   "execution_count": null,
   "metadata": {
    "cell_id": "75dea9dc1faa4e36ae72c9679f82f153",
    "deepnote_cell_type": "code",
    "execution_context_id": "668bbe48-be67-49b4-8429-5deaaf549af6",
    "execution_millis": 0,
    "execution_start": 1732154573477,
    "source_hash": "f475d5e0"
   },
   "outputs": [],
   "source": [
    "train_df.fillna(value = {'Hawker_Within_500m': 0, 'Hawker_Within_1km': 0, 'Hawker_Within_2km': 0}, inplace = True)"
   ]
  },
  {
   "cell_type": "code",
   "execution_count": null,
   "metadata": {
    "cell_id": "4f03ee428f92460eab4f795fc2db23cb",
    "deepnote_cell_type": "code",
    "execution_context_id": "668bbe48-be67-49b4-8429-5deaaf549af6",
    "execution_millis": 144,
    "execution_start": 1732154573525,
    "source_hash": "242901f0"
   },
   "outputs": [],
   "source": [
    "train_df.isnull().sum()[train_df.isnull().sum() > 0]"
   ]
  },
  {
   "cell_type": "code",
   "execution_count": null,
   "metadata": {
    "cell_id": "4b0595cbfdc34cd4b88547749129be09",
    "deepnote_cell_type": "code",
    "execution_context_id": "668bbe48-be67-49b4-8429-5deaaf549af6",
    "execution_millis": 73,
    "execution_start": 1732154573714,
    "source_hash": "ebb9298b"
   },
   "outputs": [],
   "source": [
    "train_df"
   ]
  },
  {
   "cell_type": "markdown",
   "metadata": {
    "cell_id": "324e97cd40ac47f0857eaf4002a49c55",
    "deepnote_cell_type": "text-cell-h1",
    "formattedRanges": []
   },
   "source": [
    "#DATA TYPES"
   ]
  },
  {
   "cell_type": "markdown",
   "metadata": {
    "cell_id": "b5d230d2b32d4471b515bc9c0ab9dbf0",
    "deepnote_cell_type": "text-cell-h2",
    "formattedRanges": []
   },
   "source": [
    "## Convert data to the correct Dtype"
   ]
  },
  {
   "cell_type": "code",
   "execution_count": null,
   "metadata": {
    "cell_id": "4da4d945559542d183f88e95d1a6ba10",
    "deepnote_cell_type": "code",
    "execution_context_id": "668bbe48-be67-49b4-8429-5deaaf549af6",
    "execution_millis": 83,
    "execution_start": 1732154573829,
    "source_hash": "928938fc"
   },
   "outputs": [],
   "source": [
    "train_df.info()"
   ]
  },
  {
   "cell_type": "code",
   "execution_count": null,
   "metadata": {
    "cell_id": "35ad6f27a2184b87aca03cab0502a42f",
    "deepnote_cell_type": "code",
    "execution_context_id": "668bbe48-be67-49b4-8429-5deaaf549af6",
    "execution_millis": 1,
    "execution_start": 1732154573961,
    "source_hash": "258384cf"
   },
   "outputs": [],
   "source": [
    "train_df['Tranc_YearMonth'] = pd.to_datetime(train_df['Tranc_YearMonth'])"
   ]
  },
  {
   "cell_type": "code",
   "execution_count": null,
   "metadata": {
    "cell_id": "34436812651c4e44ba4bf945c213867d",
    "deepnote_cell_type": "code",
    "execution_context_id": "668bbe48-be67-49b4-8429-5deaaf549af6",
    "execution_millis": 55,
    "execution_start": 1732154574010,
    "source_hash": "928938fc"
   },
   "outputs": [],
   "source": [
    "train_df.info()"
   ]
  },
  {
   "cell_type": "code",
   "execution_count": null,
   "metadata": {
    "cell_id": "432f8d9e9d5f4bd08c29563648ddba7e",
    "deepnote_cell_type": "code",
    "execution_context_id": "668bbe48-be67-49b4-8429-5deaaf549af6",
    "execution_millis": 1,
    "execution_start": 1732154574113,
    "source_hash": "b623e53d"
   },
   "outputs": [],
   "source": []
  },
  {
   "cell_type": "markdown",
   "metadata": {
    "cell_id": "0b5f01bf35bb4a1aba91d82e85e7e9dc",
    "deepnote_cell_type": "text-cell-h1",
    "formattedRanges": []
   },
   "source": [
    "#GET_DUMMIES"
   ]
  },
  {
   "cell_type": "markdown",
   "metadata": {
    "cell_id": "f66a3175e1ae479aad7d960b563d1cbe",
    "deepnote_cell_type": "text-cell-h2",
    "formattedRanges": []
   },
   "source": [
    "## Convert to dummies for categorical columns: Flat, storey range, town"
   ]
  },
  {
   "cell_type": "code",
   "execution_count": null,
   "metadata": {
    "cell_id": "8784c3bb448e4e07a8bd47c35122c715",
    "deepnote_cell_type": "code",
    "execution_context_id": "668bbe48-be67-49b4-8429-5deaaf549af6",
    "execution_millis": 0,
    "execution_start": 1732154574166,
    "source_hash": "33645486"
   },
   "outputs": [],
   "source": [
    "flat_dummies = pd.get_dummies(train_df.flat_type, prefix='flat_type',drop_first=True)"
   ]
  },
  {
   "cell_type": "code",
   "execution_count": null,
   "metadata": {
    "cell_id": "80e145bdcc2745169336d3d45d5b3fda",
    "deepnote_cell_type": "code",
    "execution_context_id": "668bbe48-be67-49b4-8429-5deaaf549af6",
    "execution_millis": 1,
    "execution_start": 1732154574221,
    "source_hash": "6f58bbe9"
   },
   "outputs": [],
   "source": [
    "flat_dummies.sample(n=5,random_state=1)"
   ]
  },
  {
   "cell_type": "code",
   "execution_count": null,
   "metadata": {
    "cell_id": "7859c15d3a0146a39c5f7063f22e1d0f",
    "deepnote_cell_type": "code",
    "execution_context_id": "668bbe48-be67-49b4-8429-5deaaf549af6",
    "execution_millis": 1,
    "execution_start": 1732154574273,
    "source_hash": "8c881c7e"
   },
   "outputs": [],
   "source": [
    "town_dummies = pd.get_dummies(train_df.town, prefix='town',drop_first=True)"
   ]
  },
  {
   "cell_type": "code",
   "execution_count": null,
   "metadata": {
    "cell_id": "a0f6b27aa9224e9b91a377601b49bf75",
    "deepnote_cell_type": "code",
    "execution_context_id": "668bbe48-be67-49b4-8429-5deaaf549af6",
    "execution_millis": 2,
    "execution_start": 1732154574321,
    "source_hash": "a1a24860"
   },
   "outputs": [],
   "source": [
    "town_dummies.sample(n=5, random_state=1)"
   ]
  },
  {
   "cell_type": "code",
   "execution_count": null,
   "metadata": {
    "cell_id": "9da5acbec2f744f481274db21ee21b75",
    "deepnote_cell_type": "code",
    "execution_context_id": "668bbe48-be67-49b4-8429-5deaaf549af6",
    "execution_millis": 1,
    "execution_start": 1732154574369,
    "source_hash": "4ac5a3c3"
   },
   "outputs": [],
   "source": [
    "storey_dummies = pd.get_dummies(train_df.storey_range, prefix='storey_range',drop_first=True)"
   ]
  },
  {
   "cell_type": "code",
   "execution_count": null,
   "metadata": {
    "cell_id": "51b09315b0f949adb06dd37e986450d6",
    "deepnote_cell_type": "code",
    "execution_context_id": "668bbe48-be67-49b4-8429-5deaaf549af6",
    "execution_millis": 1,
    "execution_start": 1732154574430,
    "source_hash": "32ceedd2"
   },
   "outputs": [],
   "source": [
    "storey_dummies.sample(n=5, random_state=1)"
   ]
  },
  {
   "cell_type": "code",
   "execution_count": null,
   "metadata": {
    "cell_id": "c42b515007ab40e1ac6cd422f3003101",
    "deepnote_cell_type": "code",
    "execution_context_id": "668bbe48-be67-49b4-8429-5deaaf549af6",
    "execution_millis": 1,
    "execution_start": 1732154574477,
    "source_hash": "b0394aa5"
   },
   "outputs": [],
   "source": [
    "storey_dummies.columns"
   ]
  },
  {
   "cell_type": "code",
   "execution_count": null,
   "metadata": {
    "cell_id": "bef01fdc6b694d18b9667c8abe202d4b",
    "deepnote_cell_type": "code",
    "execution_context_id": "668bbe48-be67-49b4-8429-5deaaf549af6",
    "execution_millis": 1,
    "execution_start": 1732154574529,
    "source_hash": "cfcef6a"
   },
   "outputs": [],
   "source": [
    "town_dummies.columns"
   ]
  },
  {
   "cell_type": "code",
   "execution_count": null,
   "metadata": {
    "cell_id": "16b3390e5d1c4baaa306da5b7bb277d1",
    "deepnote_cell_type": "code",
    "execution_context_id": "668bbe48-be67-49b4-8429-5deaaf549af6",
    "execution_millis": 112,
    "execution_start": 1732154574577,
    "source_hash": "6242336d"
   },
   "outputs": [],
   "source": [
    "train_dummies = pd.concat([train_df, town_dummies, storey_dummies], axis=1)\n",
    "train_dummies.sample(n=5, random_state=1)"
   ]
  },
  {
   "cell_type": "markdown",
   "metadata": {
    "cell_id": "6d45ca093da649b594626701ce035674",
    "deepnote_app_block_visible": false,
    "deepnote_cell_type": "text-cell-h1",
    "formattedRanges": [
     {
      "fromCodePoint": 0,
      "marks": {
       "bold": true
      },
      "toCodePoint": 13,
      "type": "marks"
     }
    ],
    "is_collapsed": false
   },
   "source": [
    "#Correlation "
   ]
  },
  {
   "cell_type": "markdown",
   "metadata": {
    "cell_id": "7e98e83a1b144245ab70cdd9133aa1fb",
    "deepnote_cell_type": "text-cell-h2",
    "formattedRanges": []
   },
   "source": [
    "## Check if there are any correlations between independent variables"
   ]
  },
  {
   "cell_type": "code",
   "execution_count": null,
   "metadata": {
    "cell_id": "370d2e21bdb0451ba140bfc931fe7984",
    "deepnote_cell_type": "code",
    "execution_context_id": "668bbe48-be67-49b4-8429-5deaaf549af6",
    "execution_millis": 737,
    "execution_start": 1732154574733,
    "source_hash": "fc6bec84"
   },
   "outputs": [],
   "source": [
    "train_dummies_corr = train_dummies[[\n",
    "      'town_BEDOK','town_BISHAN','town_BUKIT BATOK','town_BUKIT PANJANG', 'town_BUKIT TIMAH', 'town_CENTRAL AREA',\n",
    "       'town_CHOA CHU KANG', 'town_CLEMENTI', 'town_GEYLANG', 'town_HOUGANG',\n",
    "       'town_JURONG EAST', 'town_JURONG WEST', 'town_KALLANG/WHAMPOA',\n",
    "       'town_MARINE PARADE', 'town_PASIR RIS', 'town_PUNGGOL',\n",
    "       'town_QUEENSTOWN', 'town_SEMBAWANG', 'town_SENGKANG', 'town_SERANGOON',\n",
    "       'town_TAMPINES', 'town_TOA PAYOH', 'town_WOODLANDS', 'town_YISHUN',\n",
    "       'floor_area_sqm', 'lease_commence_date', 'resale_price', 'Tranc_Year', 'Tranc_Month',\n",
    "       'Mall_Nearest_Distance', 'Hawker_Nearest_Distance', 'mrt_nearest_distance',\n",
    "       'storey_range_01 TO 05', 'storey_range_04 TO 06',\n",
    "       'storey_range_06 TO 10', 'storey_range_07 TO 09',\n",
    "       'storey_range_10 TO 12', 'storey_range_11 TO 15',\n",
    "       'storey_range_13 TO 15', 'storey_range_16 TO 18',\n",
    "       'storey_range_16 TO 20', 'storey_range_19 TO 21',\n",
    "       'storey_range_21 TO 25', 'storey_range_22 TO 24',\n",
    "       'storey_range_25 TO 27', 'storey_range_26 TO 30',\n",
    "       'storey_range_28 TO 30', 'storey_range_31 TO 33',\n",
    "       'storey_range_31 TO 35', 'storey_range_34 TO 36',\n",
    "       'storey_range_36 TO 40', 'storey_range_37 TO 39',\n",
    "       'storey_range_40 TO 42', 'storey_range_43 TO 45',\n",
    "       'storey_range_46 TO 48', 'storey_range_49 TO 51'\n",
    "       ]].corr()"
   ]
  },
  {
   "cell_type": "code",
   "execution_count": null,
   "metadata": {
    "cell_id": "fb7bc982135649399f5bed76792617cf",
    "deepnote_cell_type": "code",
    "execution_context_id": "668bbe48-be67-49b4-8429-5deaaf549af6",
    "execution_millis": 0,
    "execution_start": 1732154575517,
    "source_hash": "df35a23c"
   },
   "outputs": [],
   "source": [
    "# Create positive correlation matrix and also filtering out strong negative correlations\n",
    "corr_df = train_dummies_corr.abs()"
   ]
  },
  {
   "cell_type": "code",
   "execution_count": null,
   "metadata": {
    "cell_id": "bfc3b397d6c647a4af15e76e15f8782f",
    "deepnote_cell_type": "code",
    "execution_context_id": "668bbe48-be67-49b4-8429-5deaaf549af6",
    "execution_millis": 1,
    "execution_start": 1732154575565,
    "source_hash": "87aef2f9"
   },
   "outputs": [],
   "source": [
    "# Create and apply mask\n",
    "mask = np.triu(np.ones_like(corr_df, dtype=bool))"
   ]
  },
  {
   "cell_type": "code",
   "execution_count": null,
   "metadata": {
    "cell_id": "4d23e8edd6d5422aa46cbf1a7eb7ba24",
    "deepnote_cell_type": "code",
    "execution_context_id": "668bbe48-be67-49b4-8429-5deaaf549af6",
    "execution_millis": 5,
    "execution_start": 1732154575658,
    "source_hash": "63691557"
   },
   "outputs": [],
   "source": [
    "# Replacing the DataFrame with the mask where the mask has a True value in the upper triangle\n",
    "corr_df = corr_df.mask(mask)\n",
    "corr_df"
   ]
  },
  {
   "cell_type": "code",
   "execution_count": null,
   "metadata": {
    "cell_id": "70cbb46854d0447798875828b2e98566",
    "deepnote_cell_type": "code",
    "execution_context_id": "668bbe48-be67-49b4-8429-5deaaf549af6",
    "execution_millis": 44,
    "execution_start": 1732154575674,
    "source_hash": "6cde0999"
   },
   "outputs": [],
   "source": [
    "# Finding columns that have correlation greater than 0.7 (which is our threshold)\n",
    "to_drop = [column for column in corr_df.columns if any(corr_df[column] > 0.65)]\n",
    "print(to_drop)"
   ]
  },
  {
   "cell_type": "markdown",
   "metadata": {
    "cell_id": "413ba74c8a2b4eaf9171d5c47aa5717e",
    "deepnote_cell_type": "text-cell-h1",
    "formattedRanges": []
   },
   "source": [
    "#EDA"
   ]
  },
  {
   "cell_type": "code",
   "execution_count": null,
   "metadata": {
    "cell_id": "608d7f25a294462db2019bd8377f8c52",
    "deepnote_cell_type": "code",
    "execution_context_id": "668bbe48-be67-49b4-8429-5deaaf549af6",
    "execution_millis": 626,
    "execution_start": 1732154575765,
    "source_hash": "c23f2c95"
   },
   "outputs": [],
   "source": [
    "# Histogram for Resale price\n",
    "import plotly.express as px\n",
    "fig = px.histogram(train_dummies, x=\"resale_price\",\n",
    "                   title='Distribution of Resale Price',\n",
    "                   opacity=0.8,\n",
    "                   color_discrete_sequence=['green']\n",
    "                   )\n",
    "\n",
    "fig.update_layout(\n",
    "    xaxis_title='Resale Price ($)',  # x-axis label\n",
    "    yaxis_title='Number of Transactions'      # y-axis label\n",
    ")\n",
    "\n",
    "\n",
    "fig.show()"
   ]
  },
  {
   "cell_type": "code",
   "execution_count": null,
   "metadata": {
    "cell_id": "5c01721033be4b5b8912474ab85fa642",
    "deepnote_app_block_visible": false,
    "deepnote_cell_type": "code",
    "execution_context_id": "668bbe48-be67-49b4-8429-5deaaf549af6",
    "execution_millis": 151,
    "execution_start": 1732154576445,
    "source_hash": "f1585455"
   },
   "outputs": [],
   "source": [
    "# Floor area vs Resale price\n",
    "fig = px.scatter(train_dummies, x=\"floor_area_sqm\", y=\"resale_price\", color=\"floor_area_sqm\")\n",
    "\n",
    "fig.update_layout(\n",
    "    title='Resale Prices Across Different Floor Area (sqm)',\n",
    "    xaxis_title='Floor Area (sqm)',  # x-axis label\n",
    "    yaxis_title='Resale Price'      # y-axis label\n",
    ")\n",
    "\n",
    "\n",
    "fig.show()"
   ]
  },
  {
   "cell_type": "code",
   "execution_count": null,
   "metadata": {
    "cell_id": "cc96432586534c86af01d4766659d1d2",
    "deepnote_cell_type": "code",
    "execution_context_id": "668bbe48-be67-49b4-8429-5deaaf549af6",
    "execution_millis": 0,
    "execution_start": 1732154576657,
    "source_hash": "398acd8b"
   },
   "outputs": [],
   "source": [
    "# Resale prices across different flat types\n",
    "\n",
    "mean_resale_price = train_dummies.groupby('flat_type', as_index=False)['resale_price'].mean()\n",
    "fig = px.histogram(mean_resale_price, x=\"flat_type\", y=\"resale_price\", \n",
    "                   title='Resale Prices Across Different Flat Types',\n",
    "                   opacity=0.8,\n",
    "                   color_discrete_sequence=['blue']\n",
    "                   )\n",
    "fig.update_layout(\n",
    "    xaxis_title='Flat Type',  # x-axis label\n",
    "    yaxis_title='Average Resale Price ($)'      # y-axis label\n",
    ")\n",
    "\n",
    "\n",
    "fig.show()"
   ]
  },
  {
   "cell_type": "code",
   "execution_count": null,
   "metadata": {
    "cell_id": "e8215ba3eb904b62873e229bfeff7e50",
    "deepnote_cell_type": "code",
    "execution_context_id": "668bbe48-be67-49b4-8429-5deaaf549af6",
    "execution_millis": 308,
    "execution_start": 1732154576710,
    "source_hash": "579df979"
   },
   "outputs": [],
   "source": [
    "import matplotlib.pyplot as plt\n",
    "\n",
    "# Group by 'Tranc_YearMonth' and calculate the mean of 'resale_price'\n",
    "mean_resale_price = train_dummies.groupby('Tranc_YearMonth')['resale_price'].mean()\n",
    "\n",
    "# Plot the results using the correct x and y values from the computed series\n",
    "plt.plot(mean_resale_price.index, mean_resale_price.values)\n",
    "plt.xticks(rotation=45)\n",
    "plt.xlabel('Month')  # Label for the x-axis\n",
    "plt.ylabel('Average Resale Price ($)')  # Label for the y-axis\n",
    "plt.title('Average Resale Price by Month')  # Title for the plot\n",
    "plt.tight_layout()\n",
    "plt.show()"
   ]
  },
  {
   "cell_type": "code",
   "execution_count": null,
   "metadata": {
    "cell_id": "aca147023e3a4763a870141e889752b0",
    "deepnote_cell_type": "code",
    "execution_context_id": "668bbe48-be67-49b4-8429-5deaaf549af6",
    "execution_millis": 1,
    "execution_start": 1732154577069,
    "source_hash": "1f7b203e"
   },
   "outputs": [],
   "source": [
    "# Resale prices across different storey range\n",
    "mean_resale_price = train_dummies.groupby('storey_range', as_index=False)['resale_price'].mean()\n",
    "fig = px.histogram(mean_resale_price, x=\"storey_range\", y=\"resale_price\", \n",
    "                   title='Resale prices across different storey range',\n",
    "                   opacity=0.8,\n",
    "                   color_discrete_sequence=['green']\n",
    "                   )\n",
    "fig.update_layout(\n",
    "    xaxis_title='Flat Type',  # x-axis label\n",
    "    yaxis_title='HDB Storey Range'      # y-axis label\n",
    ")\n",
    "\n",
    "\n",
    "fig.show()"
   ]
  },
  {
   "cell_type": "markdown",
   "metadata": {
    "cell_id": "ced567866f864ea0b859a75ddd5d9c55",
    "deepnote_cell_type": "text-cell-h1",
    "formattedRanges": []
   },
   "source": [
    "#EDA (Based on Region)"
   ]
  },
  {
   "cell_type": "code",
   "execution_count": null,
   "metadata": {
    "cell_id": "0755c6d5f5194de4bf3d341ae736be47",
    "deepnote_cell_type": "code",
    "execution_context_id": "668bbe48-be67-49b4-8429-5deaaf549af6",
    "execution_millis": 2,
    "execution_start": 1732154577125,
    "source_hash": "d63c0cd"
   },
   "outputs": [],
   "source": [
    "train_df['town'].unique()"
   ]
  },
  {
   "cell_type": "code",
   "execution_count": null,
   "metadata": {
    "cell_id": "9f96eafabe1f4af0b8071aa7192d66ed",
    "deepnote_cell_type": "code",
    "execution_context_id": "668bbe48-be67-49b4-8429-5deaaf549af6",
    "execution_millis": 44,
    "execution_start": 1732154577181,
    "source_hash": "48d916e4"
   },
   "outputs": [],
   "source": [
    "# Fixing the KeyError by correctly filtering the dataframe by logical conditions instead of indexing\n",
    "# Assigning regions based on town names\n",
    "central_region_towns = ['KALLANG/WHAMPOA', 'BUKIT MERAH', 'TOA PAYOH', 'ANG MO KIO', 'BISHAN', 'QUEENSTOWN', 'BUKIT TIMAH', 'CENTRAL AREA', 'MARINE PARADE']\n",
    "north_region_towns = ['YISHUN', 'HOUGANG', 'SENGKANG', 'SERANGOON', 'WOODLANDS', 'SEMBAWANG']\n",
    "west_region_towns = ['BUKIT PANJANG', 'JURONG WEST', 'CHOA CHU KANG', 'CLEMENTI', 'JURONG EAST','BUKIT BATOK']\n",
    "east_region_towns = ['GEYLANG', 'TAMPINES', 'PASIR RIS', 'BEDOK', 'PUNGGOL']\n",
    "\n",
    "# Filtering data (using DataFrame.isin method to avoid KeyErrors)\n",
    "town_central_region = train_df[train_df['town'].isin(central_region_towns)]\n",
    "town_north_region = train_df[train_df['town'].isin(north_region_towns)]\n",
    "town_west_region = train_df[train_df['town'].isin(west_region_towns)]\n",
    "town_east_region = train_df[train_df['town'].isin(east_region_towns)]"
   ]
  },
  {
   "cell_type": "code",
   "execution_count": null,
   "metadata": {
    "cell_id": "feb5a47f1ab4463c8dd945a9c9b18633",
    "deepnote_cell_type": "code",
    "execution_context_id": "668bbe48-be67-49b4-8429-5deaaf549af6",
    "execution_millis": 1558,
    "execution_start": 1732154577402,
    "source_hash": "a5629478"
   },
   "outputs": [],
   "source": [
    "def assign_region(row):\n",
    "    if row['town'] in central_region_towns:\n",
    "        return 'Central'\n",
    "    elif row['town'] in north_region_towns:\n",
    "        return 'North'\n",
    "    elif row['town'] in west_region_towns:\n",
    "        return 'West'\n",
    "    elif row['town'] in east_region_towns:\n",
    "        return 'East'\n",
    "    else:\n",
    "        return 'Unknown'\n",
    "\n",
    "# Applying the function to create a 'region' column\n",
    "train_dummies['region'] = train_dummies.apply(assign_region, axis=1)"
   ]
  },
  {
   "cell_type": "code",
   "execution_count": null,
   "metadata": {
    "cell_id": "61691d2b667841f68f884be7f5b58770",
    "deepnote_cell_type": "code",
    "execution_context_id": "668bbe48-be67-49b4-8429-5deaaf549af6",
    "execution_millis": 1,
    "execution_start": 1732154579017,
    "source_hash": "13d65b20"
   },
   "outputs": [],
   "source": [
    "# Resale prices across different regions in Singapore\n",
    "\n",
    "mean_resale_price = train_dummies.groupby('region', as_index=False)['resale_price'].mean()\n",
    "fig = px.histogram(mean_resale_price, x=\"region\", y=\"resale_price\", \n",
    "                   title='Resale prices across different regions in Singapore',\n",
    "                   opacity=0.8,\n",
    "                   color_discrete_sequence=['blue']\n",
    "                   )\n",
    "fig.update_layout(\n",
    "    xaxis_title='Region',  # x-axis label\n",
    "    yaxis_title='Resale Price ($)'      # y-axis label\n",
    ")\n",
    "\n",
    "fig.show()"
   ]
  },
  {
   "cell_type": "code",
   "execution_count": null,
   "metadata": {
    "cell_id": "95ac8df66ce34d5bb071065b92a2101d",
    "deepnote_cell_type": "code",
    "execution_context_id": "668bbe48-be67-49b4-8429-5deaaf549af6",
    "execution_millis": 215,
    "execution_start": 1732154579077,
    "source_hash": "5b4407e2"
   },
   "outputs": [],
   "source": [
    "central = train_dummies[train_dummies['region'] == 'Central']\n",
    "central"
   ]
  },
  {
   "cell_type": "code",
   "execution_count": null,
   "metadata": {
    "cell_id": "9ef328bf8ef0409bb10bc5611b03d9e3",
    "deepnote_cell_type": "code",
    "execution_context_id": "668bbe48-be67-49b4-8429-5deaaf549af6",
    "execution_millis": 227,
    "execution_start": 1732154579345,
    "source_hash": "49819d5d"
   },
   "outputs": [],
   "source": [
    "# Plotting by Central region in Singapore\n",
    "mean_resale_price_central = central.groupby('Tranc_YearMonth', as_index=False)['resale_price'].mean()\n",
    "\n",
    "# Plot the results using the correct x and y values from the computed series\n",
    "plt.plot(mean_resale_price_central.Tranc_YearMonth, mean_resale_price_central.resale_price)\n",
    "plt.xticks(rotation=45)\n",
    "plt.xlabel('Tranc_YearMonth')  # Label for the x-axis\n",
    "plt.ylabel('Mean_Resale_Price')  # Label for the y-axis\n",
    "plt.title('Tranc_Year vs Mean_Resale_Price (Central Region)')  # Title for the plot\n",
    "plt.tight_layout()\n",
    "plt.show()"
   ]
  },
  {
   "cell_type": "code",
   "execution_count": null,
   "metadata": {
    "cell_id": "8665a2df21af4fd887d3f19d1a398979",
    "deepnote_cell_type": "code",
    "execution_context_id": "668bbe48-be67-49b4-8429-5deaaf549af6",
    "execution_millis": 126,
    "execution_start": 1732154579629,
    "source_hash": "afd77240"
   },
   "outputs": [],
   "source": [
    "west = train_dummies[train_dummies['region'] == 'West']\n",
    "west"
   ]
  },
  {
   "cell_type": "code",
   "execution_count": null,
   "metadata": {
    "cell_id": "90e0379c56c14c459f6ee0637068e826",
    "deepnote_cell_type": "code",
    "execution_context_id": "668bbe48-be67-49b4-8429-5deaaf549af6",
    "execution_millis": 244,
    "execution_start": 1732154579801,
    "source_hash": "e2356f4a"
   },
   "outputs": [],
   "source": [
    "# Plotting by West region in Singapore\n",
    "mean_resale_price_west = west.groupby('Tranc_YearMonth', as_index=False)['resale_price'].mean()\n",
    "\n",
    "# Plot the results using the correct x and y values from the computed series\n",
    "plt.plot(mean_resale_price_west.Tranc_YearMonth, mean_resale_price_west.resale_price)\n",
    "plt.xticks(rotation=45)\n",
    "plt.xlabel('Tranc_YearMonth')  # Label for the x-axis\n",
    "plt.ylabel('Mean_Resale_Price')  # Label for the y-axis\n",
    "plt.title('Tranc_Year vs Mean_Resale_Price (West Region)')  # Title for the plot\n",
    "plt.tight_layout()\n",
    "plt.show()"
   ]
  },
  {
   "cell_type": "code",
   "execution_count": null,
   "metadata": {
    "cell_id": "cb4a34d9574f4402a209d31553fb2c69",
    "deepnote_cell_type": "code",
    "execution_context_id": "668bbe48-be67-49b4-8429-5deaaf549af6",
    "execution_millis": 265,
    "execution_start": 1732154580097,
    "source_hash": "a769e73c"
   },
   "outputs": [],
   "source": [
    "north = train_dummies[train_dummies['region'] == 'North']\n",
    "north"
   ]
  },
  {
   "cell_type": "code",
   "execution_count": null,
   "metadata": {
    "cell_id": "491fb96224884340a87e20a083035c86",
    "deepnote_cell_type": "code",
    "execution_context_id": "668bbe48-be67-49b4-8429-5deaaf549af6",
    "execution_millis": 363,
    "execution_start": 1732154580417,
    "source_hash": "27e53e18"
   },
   "outputs": [],
   "source": [
    "# Plotting by North region in Singapore\n",
    "mean_resale_price_north = north.groupby('Tranc_YearMonth', as_index=False)['resale_price'].mean()\n",
    "\n",
    "# Plot the results using the correct x and y values from the computed series\n",
    "plt.plot(mean_resale_price_north.Tranc_YearMonth, mean_resale_price_north.resale_price)\n",
    "plt.xticks(rotation=45)\n",
    "plt.xlabel('Tranc_YearMonth')  # Label for the x-axis\n",
    "plt.ylabel('Mean_Resale_Price')  # Label for the y-axis\n",
    "plt.title('Tranc_Year vs Mean_Resale_Price (North Region)')  # Title for the plot\n",
    "plt.tight_layout()\n",
    "plt.show()"
   ]
  },
  {
   "cell_type": "code",
   "execution_count": null,
   "metadata": {
    "cell_id": "8fb5379b164e4beab108cc7cf8de5f7a",
    "deepnote_cell_type": "code",
    "execution_context_id": "668bbe48-be67-49b4-8429-5deaaf549af6",
    "execution_millis": 126,
    "execution_start": 1732154580837,
    "source_hash": "a4aff7ab"
   },
   "outputs": [],
   "source": [
    "east = train_dummies[train_dummies['region'] == 'East']\n",
    "east"
   ]
  },
  {
   "cell_type": "code",
   "execution_count": null,
   "metadata": {
    "cell_id": "1bf30ec708b34d85aad9db54ae7dd791",
    "deepnote_cell_type": "code",
    "execution_context_id": "668bbe48-be67-49b4-8429-5deaaf549af6",
    "execution_millis": 232,
    "execution_start": 1732154581013,
    "source_hash": "98f32f51"
   },
   "outputs": [],
   "source": [
    "# Plotting by East region in Singapore\n",
    "mean_resale_price_east = east.groupby('Tranc_YearMonth', as_index=False)['resale_price'].mean()\n",
    "\n",
    "# Plot the results using the correct x and y values from the computed series\n",
    "plt.plot(mean_resale_price_east.Tranc_YearMonth, mean_resale_price_east.resale_price)\n",
    "plt.xticks(rotation=45)\n",
    "plt.xlabel('Tranc_YearMonth')  # Label for the x-axis\n",
    "plt.ylabel('Mean_Resale_Price')  # Label for the y-axis\n",
    "plt.title('Tranc_Year vs Mean_Resale_Price (East Region)')  # Title for the plot\n",
    "plt.tight_layout()\n",
    "plt.show()"
   ]
  },
  {
   "cell_type": "markdown",
   "metadata": {
    "cell_id": "ba64bc9a78824205a89a51252c291f66",
    "deepnote_cell_type": "text-cell-h1",
    "formattedRanges": []
   },
   "source": [
    "#EDA (Based on SuperMalls)"
   ]
  },
  {
   "cell_type": "code",
   "execution_count": null,
   "metadata": {
    "cell_id": "2a0d01312b044ada9c458c4799b8659f",
    "deepnote_cell_type": "code",
    "execution_context_id": "668bbe48-be67-49b4-8429-5deaaf549af6",
    "execution_millis": 0,
    "execution_start": 1732154581293,
    "source_hash": "af113955"
   },
   "outputs": [],
   "source": [
    "# <THIS IS JUST A NOTE>\n",
    "# List of Supermalls near residential area in Singapore:\n",
    "\n",
    "# Central Region: ION Orchard, Marina Bay Sands Shoppes, Suntec City, Plaza Singapura, Bugis Junction, BV Mall\n",
    "# East Region: Tampines 1, Bedok Mall, Eastpoint Mall, Parkway Parade, Siglap Centre\n",
    "# North Region: Causeway Point, Nex, Northpoint City, Sembawang Shopping Centre, Vista Point\n",
    "# West Region: Vivocity, Westgate, JEM, The Clementi Mall, Jurong Point "
   ]
  },
  {
   "cell_type": "code",
   "execution_count": null,
   "metadata": {
    "cell_id": "dc12cec792ea4539ab76d7916025673b",
    "deepnote_cell_type": "code",
    "execution_context_id": "668bbe48-be67-49b4-8429-5deaaf549af6",
    "execution_millis": 1,
    "execution_start": 1732154581345,
    "source_hash": "8e257b16"
   },
   "outputs": [],
   "source": [
    "# Coordinates (Latitude and Longtitude)\n",
    "\n",
    "coordinates_central = {'Supermall': ['ION Orchard','Marina Bay Sands Shoppes','Suntec City', 'Plaza Singapura', 'Bugis Junction', 'BV Mall'],\n",
    "                      'SLatitude': [1.30411, 1.28397, 1.29552, 1.30029, 1.29960, 1.2833],\n",
    "                      'SLongitude': [103.83197, 103.85914, 103.85846, 103.84482, 103.85558, 103.8500]}\n",
    "\n",
    "coordinates_north = {'Supermall': ['Causeway Point', 'Nex', 'Northpoint City', 'Sembawang Shopping Centre', 'Vista Point'],\n",
    "                     'SLatitude': [1.43634, 1.35076, 1.42958, 1.44176, 1.43156],\n",
    "                     'SLongitude': [103.78603, 103.87202, 103.83580, 103.82455, 103.79390]}\n",
    "\n",
    "coordinates_west = {'Supermall': ['Vivocity', 'Westgate', 'JEM', 'The Clementi Mall', 'Jurong Point'],\n",
    "                    'SLatitude': [1.26499, 1.33460, 1.33278, 1.31508, 1.34000],\n",
    "                    'SLongitude': [103.82324, 103.74278, 103.74324, 103.76437, 103.70678]}\n",
    "\n",
    "coordinates_east = {'Supermall': ['Tampines 1', 'Bedok Mall', 'Eastpoint Mall', 'Parkway Parade', 'Siglap Centre'],\n",
    "                    'SLatitude': [1.35431, 1.32492, 1.34295, 1.30164, 1.31274],\n",
    "                    'SLongitude': [103.94544, 103.92931, 103.95311, 103.90529, 103.92332]}                 "
   ]
  },
  {
   "cell_type": "code",
   "execution_count": null,
   "metadata": {
    "cell_id": "9feabc928d2e4c4ca27bc2b6899a91f1",
    "deepnote_cell_type": "code",
    "execution_context_id": "668bbe48-be67-49b4-8429-5deaaf549af6",
    "execution_millis": 0,
    "execution_start": 1732154581393,
    "source_hash": "b102b261"
   },
   "outputs": [],
   "source": [
    "import pandas as pd\n",
    "\n",
    "# Creating DataFrames from the dictionaries above\n",
    "coordinates_central = pd.DataFrame(coordinates_central)\n",
    "coordinates_north = pd.DataFrame(coordinates_north)\n",
    "coordinates_west = pd.DataFrame(coordinates_west)\n",
    "coordinates_east = pd.DataFrame(coordinates_east)"
   ]
  },
  {
   "cell_type": "code",
   "execution_count": null,
   "metadata": {
    "cell_id": "165446248b624602875d1a7186a31e6f",
    "deepnote_cell_type": "code",
    "deepnote_table_loading": false,
    "deepnote_table_state": {
     "conditionalFilters": [],
     "filters": [],
     "pageIndex": 0,
     "pageSize": 10,
     "sortBy": [],
     "wrappedTextColumnIds": []
    },
    "execution_context_id": "668bbe48-be67-49b4-8429-5deaaf549af6",
    "execution_millis": 1,
    "execution_start": 1732154581445,
    "source_hash": "3ce25d79"
   },
   "outputs": [],
   "source": [
    "# Concatenating the DataFrames\n",
    "coordinates_of_mall = pd.concat([coordinates_central, coordinates_north, coordinates_west, coordinates_east])\n",
    "coordinates_of_mall"
   ]
  },
  {
   "cell_type": "code",
   "execution_count": null,
   "metadata": {
    "cell_id": "f941472da10b4f489af00de65777df6a",
    "deepnote_cell_type": "code",
    "execution_context_id": "668bbe48-be67-49b4-8429-5deaaf549af6",
    "execution_millis": 1,
    "execution_start": 1732154581497,
    "source_hash": "8084e67"
   },
   "outputs": [],
   "source": [
    "# Drawing out the relevant Data:\n",
    "coordinates_of_resi = train_dummies[['id','Latitude', 'Longitude']]\n",
    "coordinates_of_resi"
   ]
  },
  {
   "cell_type": "code",
   "execution_count": null,
   "metadata": {
    "cell_id": "e632b4c8bda94cf3be3cf7893dde6f26",
    "deepnote_cell_type": "code",
    "execution_context_id": "668bbe48-be67-49b4-8429-5deaaf549af6",
    "execution_millis": 78,
    "execution_start": 1732154581549,
    "source_hash": "8e625be4"
   },
   "outputs": [],
   "source": [
    "# Function to calculate distance between two points on Earth\n",
    "\n",
    "def haversine_distance(lat1, lon1, lat2, lon2):\n",
    "    # Convert decimal degrees to radians\n",
    "    lat1, lon1, lat2, lon2 = map(np.radians, [lat1, lon1, lat2, lon2])\n",
    "\n",
    "    # Haversine formula\n",
    "    dlon = lon2 - lon1\n",
    "    dlat = lat2 - lat1\n",
    "    a = np.sin(dlat / 2.0)**2 + np.cos(lat1) * np.cos(lat2) * np.sin(dlon / 2.0)**2\n",
    "    c = 2 * np.arcsin(np.sqrt(a))\n",
    "    km = 6371 * c  # Multiply by Earth's radius in kilometers\n",
    "    return km\n",
    "\n",
    " \n",
    " # Calculate all distances at once using broadcasting\n",
    "\n",
    "lat1 = coordinates_of_resi['Latitude'].values[:, np.newaxis]\n",
    "lon1 = coordinates_of_resi['Longitude'].values[:, np.newaxis]\n",
    "lat2 = coordinates_of_mall['SLatitude'].values\n",
    "lon2 = coordinates_of_mall['SLongitude'].values\n",
    "\n",
    "distances = haversine_distance(lat1, lon1, lat2, lon2)\n",
    "\n",
    "# Find the nearest mall for each residential area\n",
    "tmin_distance_indices = np.argmin(distances, axis=1)\n",
    "\n",
    "# Prepare result DataFrame\n",
    "min_distance_df = pd.DataFrame({\n",
    "    #\"Residential ID\": coordinates_of_resi['id'],\n",
    "    \"Nearest Supermall\": coordinates_of_mall['Supermall'].values[tmin_distance_indices],\n",
    "    \"Distance (km)\": distances[np.arange(distances.shape[0]), tmin_distance_indices]\n",
    "})\n",
    "\n",
    "# Print results\n",
    "print(min_distance_df)"
   ]
  },
  {
   "cell_type": "code",
   "execution_count": null,
   "metadata": {
    "cell_id": "3c985af7bd634eb1b2e3923395816bb9",
    "deepnote_cell_type": "code",
    "execution_context_id": "668bbe48-be67-49b4-8429-5deaaf549af6",
    "execution_millis": 0,
    "execution_start": 1732154581673,
    "source_hash": "975c6b11"
   },
   "outputs": [],
   "source": [
    "min_distance_df"
   ]
  },
  {
   "cell_type": "code",
   "execution_count": null,
   "metadata": {
    "cell_id": "623d6278df9d4529a60c4deb69521a8f",
    "deepnote_cell_type": "code",
    "execution_context_id": "668bbe48-be67-49b4-8429-5deaaf549af6",
    "execution_millis": 560,
    "execution_start": 1732154581721,
    "source_hash": "8bab9d9"
   },
   "outputs": [],
   "source": [
    "# Concatenate Dataframes \n",
    "train_dummies_1 = pd.concat([train_dummies, min_distance_df], axis=1)\n",
    "train_dummies_1"
   ]
  },
  {
   "cell_type": "code",
   "execution_count": null,
   "metadata": {
    "cell_id": "8e8d6dc46c1a4d9685b0f36e28334c19",
    "deepnote_cell_type": "code",
    "execution_context_id": "668bbe48-be67-49b4-8429-5deaaf549af6",
    "execution_millis": 520,
    "execution_start": 1732154582329,
    "source_hash": "1ec6581c"
   },
   "outputs": [],
   "source": [
    "# Floor area vs Resale price\n",
    "fig = px.scatter(train_dummies_1, x=\"Distance (km)\", y=\"resale_price\", color=\"Distance (km)\")\n",
    "\n",
    "fig.update_layout(\n",
    "    title='Resale Prices VS. Distance from Supermall',\n",
    "    xaxis_title='Distance from Supermall',  # x-axis label\n",
    "    yaxis_title='Resale Price'      # y-axis label\n",
    ")\n",
    "\n",
    "\n",
    "fig.show()"
   ]
  },
  {
   "cell_type": "code",
   "execution_count": null,
   "metadata": {
    "cell_id": "d01af954930843e9bd703e2adf9559be",
    "deepnote_cell_type": "code",
    "execution_context_id": "668bbe48-be67-49b4-8429-5deaaf549af6",
    "execution_millis": 707,
    "execution_start": 1732154582909,
    "source_hash": "7f844c35"
   },
   "outputs": [],
   "source": [
    "def categorize_distance(distance):\n",
    "    if pd.isna(distance):\n",
    "        return \"Unknown\"\n",
    "    if distance < 1 or distance > 8:\n",
    "        return \"Out of range\"\n",
    "    return f\"{int(distance)} km\"\n",
    "\n",
    "# Apply the updated categorize_distance function to the 'Distance (km)' column\n",
    "train_dummies_1['dist_category'] = train_dummies_1['Distance (km)'].apply(categorize_distance)\n",
    "\n",
    "# Display the updated DataFrame\n",
    "train_dummies_1"
   ]
  },
  {
   "cell_type": "code",
   "execution_count": null,
   "metadata": {
    "cell_id": "5265b36e6bcc400493e3137c408caf0f",
    "deepnote_cell_type": "code",
    "execution_context_id": "668bbe48-be67-49b4-8429-5deaaf549af6",
    "execution_millis": 6,
    "execution_start": 1732154583665,
    "source_hash": "2ac15804"
   },
   "outputs": [],
   "source": [
    "# Resale prices based on location away from Supermall\n",
    "mean_resale_price_dist = train_dummies_1.groupby('Distance (km)', as_index=False)['resale_price'].mean()\n",
    "fig = px.histogram(mean_resale_price_dist, x=\"Distance (km)\", y=\"resale_price\", \n",
    "                   title='Resale prices based on location away from Supermall',\n",
    "                   opacity=0.8,\n",
    "                   color_discrete_sequence=['navy']\n",
    "                   )\n",
    "fig.update_layout(\n",
    "    xaxis_title='Distance (km)',  # x-axis label\n",
    "    yaxis_title='HDB Resale Price'      # y-axis label\n",
    ")\n",
    "\n",
    "\n",
    "fig.show()"
   ]
  },
  {
   "cell_type": "code",
   "execution_count": null,
   "metadata": {
    "cell_id": "f4383e2fa50245c8b3de24eb593691b5",
    "deepnote_cell_type": "code",
    "execution_context_id": "668bbe48-be67-49b4-8429-5deaaf549af6",
    "execution_millis": 7,
    "execution_start": 1732154583717,
    "source_hash": "d0afc59d"
   },
   "outputs": [],
   "source": [
    "# Resale prices based on location away from Supermall\n",
    "mean_resale_price_dist = train_dummies_1.groupby('dist_category', as_index=False)['resale_price'].mean()\n",
    "fig = px.histogram(mean_resale_price_dist, x=\"dist_category\", y=\"resale_price\", \n",
    "                   title='Resale prices based on location away from Supermall',\n",
    "                   opacity=0.8,\n",
    "                   color_discrete_sequence=['cyan']\n",
    "                   )\n",
    "fig.update_layout(\n",
    "    xaxis_title='Distance (km)',  # x-axis label\n",
    "    yaxis_title='HDB Resale Price'      # y-axis label\n",
    ")\n",
    "\n",
    "\n",
    "fig.show()"
   ]
  },
  {
   "cell_type": "markdown",
   "metadata": {
    "cell_id": "71355d466ee9456ab5f4e334af0a911a",
    "deepnote_cell_type": "text-cell-h1",
    "formattedRanges": []
   },
   "source": [
    "#Modeling - Linear Regression"
   ]
  },
  {
   "cell_type": "code",
   "execution_count": null,
   "metadata": {
    "cell_id": "73e9b6c2c0f04d0d9d3b653fefd0570a",
    "deepnote_cell_type": "code",
    "execution_context_id": "668bbe48-be67-49b4-8429-5deaaf549af6",
    "execution_millis": 1,
    "execution_start": 1732154583773,
    "source_hash": "cba72c25"
   },
   "outputs": [],
   "source": [
    "# Include variables: town, floor_area_sqm, lease_commence_date, resale_price, Tranc_Year, Tranc_Month, Mall_Nearest_Distance, Hawker_Nearest_Distance, mrt_nearest_distance\n",
    "\n",
    "feature_cols = [\n",
    "      'town_BEDOK','town_BISHAN','town_BUKIT BATOK','town_BUKIT PANJANG', 'town_BUKIT TIMAH', 'town_CENTRAL AREA',\n",
    "       'town_CHOA CHU KANG', 'town_CLEMENTI', 'town_GEYLANG', 'town_HOUGANG',\n",
    "       'town_JURONG EAST', 'town_JURONG WEST', 'town_KALLANG/WHAMPOA',\n",
    "       'town_MARINE PARADE', 'town_PASIR RIS', 'town_PUNGGOL',\n",
    "       'town_QUEENSTOWN', 'town_SEMBAWANG', 'town_SENGKANG', 'town_SERANGOON',\n",
    "       'town_TAMPINES', 'town_TOA PAYOH', 'town_WOODLANDS', 'town_YISHUN',\n",
    "       'floor_area_sqm', 'lease_commence_date', 'Tranc_Year', 'Tranc_Month',\n",
    "       'Mall_Nearest_Distance', 'Hawker_Nearest_Distance', 'mrt_nearest_distance'\n",
    "       ]"
   ]
  },
  {
   "cell_type": "code",
   "execution_count": null,
   "metadata": {
    "cell_id": "fed20c79b84d40afaf24162fa3a2ea15",
    "deepnote_cell_type": "code",
    "execution_context_id": "668bbe48-be67-49b4-8429-5deaaf549af6",
    "execution_millis": 0,
    "execution_start": 1732154583821,
    "source_hash": "9cba0b63"
   },
   "outputs": [],
   "source": [
    "# Include variables: town, floor_area_sqm, lease_commence_date, resale_price, Tranc_Year, Tranc_Month, Mall_Nearest_Distance, Hawker_Nearest_Distance, mrt_nearest_distance\n",
    "# Include more variables: storey_range\n",
    "\n",
    "feature_cols_1 = [\n",
    "      'town_BEDOK','town_BISHAN','town_BUKIT BATOK','town_BUKIT PANJANG', 'town_BUKIT TIMAH', 'town_CENTRAL AREA',\n",
    "       'town_CHOA CHU KANG', 'town_CLEMENTI', 'town_GEYLANG', 'town_HOUGANG',\n",
    "       'town_JURONG EAST', 'town_JURONG WEST', 'town_KALLANG/WHAMPOA',\n",
    "       'town_MARINE PARADE', 'town_PASIR RIS', 'town_PUNGGOL',\n",
    "       'town_QUEENSTOWN', 'town_SEMBAWANG', 'town_SENGKANG', 'town_SERANGOON',\n",
    "       'town_TAMPINES', 'town_TOA PAYOH', 'town_WOODLANDS', 'town_YISHUN',\n",
    "       'floor_area_sqm', 'lease_commence_date', \n",
    "       'Tranc_Year', 'Tranc_Month',\n",
    "       'Mall_Nearest_Distance', 'Hawker_Nearest_Distance', 'mrt_nearest_distance',\n",
    "       'storey_range_01 TO 05', 'storey_range_04 TO 06',\n",
    "       'storey_range_06 TO 10', 'storey_range_07 TO 09',\n",
    "       'storey_range_10 TO 12', 'storey_range_11 TO 15',\n",
    "       'storey_range_13 TO 15', 'storey_range_16 TO 18',\n",
    "       'storey_range_16 TO 20', 'storey_range_19 TO 21',\n",
    "       'storey_range_21 TO 25', 'storey_range_22 TO 24',\n",
    "       'storey_range_25 TO 27', 'storey_range_26 TO 30',\n",
    "       'storey_range_28 TO 30', 'storey_range_31 TO 33',\n",
    "       'storey_range_31 TO 35', 'storey_range_34 TO 36',\n",
    "       'storey_range_36 TO 40', 'storey_range_37 TO 39',\n",
    "       'storey_range_40 TO 42', 'storey_range_43 TO 45',\n",
    "       'storey_range_46 TO 48', 'storey_range_49 TO 51'\n",
    "       ]"
   ]
  },
  {
   "cell_type": "code",
   "execution_count": null,
   "metadata": {
    "cell_id": "d97c81d62ec34d83b0c3363713b49aea",
    "deepnote_cell_type": "code",
    "execution_context_id": "668bbe48-be67-49b4-8429-5deaaf549af6",
    "execution_millis": 12,
    "execution_start": 1732154583869,
    "source_hash": "f79b897"
   },
   "outputs": [],
   "source": [
    "from sklearn.linear_model import LinearRegression\n",
    "from sklearn.model_selection import train_test_split\n",
    "from sklearn import metrics\n",
    "from sklearn.preprocessing import StandardScaler\n",
    "from sklearn.preprocessing import MinMaxScaler"
   ]
  },
  {
   "cell_type": "code",
   "execution_count": null,
   "metadata": {
    "cell_id": "29a6a6ff508b424199b4758f81e56e78",
    "deepnote_cell_type": "code",
    "execution_context_id": "668bbe48-be67-49b4-8429-5deaaf549af6",
    "execution_millis": 1,
    "execution_start": 1732154583933,
    "source_hash": "ceffe0a5"
   },
   "outputs": [],
   "source": [
    "\n",
    "# Define a function that accepts a list of features in a DataFrame and returns the RMSE for a test dataset.\n",
    "\n",
    "def train_test_rmse(df, features):\n",
    "    X = df[features]\n",
    "    y = df['resale_price']\n",
    "\n",
    "    X_train, X_test, y_train, y_test = train_test_split(X, y,random_state=123)\n",
    "\n",
    "    scaler = StandardScaler()\n",
    "    X_train = scaler.fit_transform(X_train)\n",
    "    X_test = scaler.transform(X_test)\n",
    "\n",
    "    linreg = LinearRegression()\n",
    "    linreg.fit(X_train, y_train)\n",
    "\n",
    "    y_pred = linreg.predict(X_test)\n",
    "    \n",
    "    # Create your scatter plot\n",
    "    plt.plot(y_test, y_pred, 'o', markersize=6, label='Data Points', color='blue')\n",
    "\n",
    "    # Fit a line to the data\n",
    "    m, b = np.polyfit(y_test, y_pred, 1)\n",
    "    plt.plot(y_test, m*y_test + b, color='red', label=f'Fit: y = {m:.2f}x + {b:.2f}')\n",
    "\n",
    "    # Add grid\n",
    "    plt.grid(True, linestyle='--', alpha=0.2)\n",
    "\n",
    "    # Add labels and title\n",
    "    plt.xlabel('Actual Resale Price', fontsize=12)\n",
    "    plt.ylabel('Predicted Resale Price', fontsize=12)\n",
    "    plt.title('Actual vs Predicted Resale Price', fontsize=14)\n",
    "\n",
    "    # Show the plot\n",
    "    plt.tight_layout()\n",
    "    plt.show()\n",
    "\n",
    "    print('RMSE:', np.sqrt(metrics.mean_squared_error(y_test, y_pred)))\n",
    "    print('R2 Score:', metrics.r2_score(y_test, y_pred))\n",
    "    print(linreg.coef_)\n",
    "    print(linreg.intercept_)\n",
    "    print(list(zip(features, linreg.coef_)))"
   ]
  },
  {
   "cell_type": "markdown",
   "metadata": {
    "cell_id": "2e443fee19bf4a1a88a0b9a657a1d18c",
    "deepnote_cell_type": "text-cell-h2",
    "formattedRanges": []
   },
   "source": [
    "## Use 'feature_cols' for Model 1  as trial"
   ]
  },
  {
   "cell_type": "code",
   "execution_count": null,
   "metadata": {
    "cell_id": "5258e587a7374b4bbc860714f10f04ba",
    "deepnote_cell_type": "code",
    "execution_context_id": "668bbe48-be67-49b4-8429-5deaaf549af6",
    "execution_millis": 1000,
    "execution_start": 1732154583985,
    "source_hash": "97597837"
   },
   "outputs": [],
   "source": [
    "\n",
    "train_test_rmse(train_dummies, feature_cols)"
   ]
  },
  {
   "cell_type": "code",
   "execution_count": null,
   "metadata": {
    "cell_id": "161aa6f768704834a6359fd80f5836b1",
    "deepnote_cell_type": "code",
    "execution_context_id": "668bbe48-be67-49b4-8429-5deaaf549af6",
    "execution_millis": 143,
    "execution_start": 1732154585045,
    "source_hash": "bef037ec"
   },
   "outputs": [],
   "source": [
    "train_dummies"
   ]
  },
  {
   "cell_type": "code",
   "execution_count": null,
   "metadata": {
    "cell_id": "5d9abb51a67344018ad46688d24927dd",
    "deepnote_cell_type": "code",
    "execution_context_id": "668bbe48-be67-49b4-8429-5deaaf549af6",
    "execution_millis": 1,
    "execution_start": 1732154585249,
    "source_hash": "19b8ebe4"
   },
   "outputs": [],
   "source": [
    "print(train_dummies[feature_cols].corrwith(train_dummies['resale_price']))"
   ]
  },
  {
   "cell_type": "markdown",
   "metadata": {
    "cell_id": "ffdddb4dd5354935a0b1c59f1cb3416b",
    "deepnote_cell_type": "text-cell-h2",
    "formattedRanges": []
   },
   "source": [
    "## Use 'feature_cols_1' as improvement for Model 2  (final)"
   ]
  },
  {
   "cell_type": "code",
   "execution_count": null,
   "metadata": {
    "cell_id": "95d24ec7d8d748fea37641fbd909d0ad",
    "deepnote_cell_type": "code",
    "execution_context_id": "668bbe48-be67-49b4-8429-5deaaf549af6",
    "execution_millis": 2225,
    "execution_start": 1732154585301,
    "source_hash": "bb11369a"
   },
   "outputs": [],
   "source": [
    "# Use 'feature_cols_1' for Model 2\n",
    "train_test_rmse(train_dummies, feature_cols_1)"
   ]
  },
  {
   "cell_type": "markdown",
   "metadata": {
    "cell_id": "d64c064ca06c40a2a5c1e8e89661fcd2",
    "deepnote_cell_type": "text-cell-h1",
    "formattedRanges": []
   },
   "source": [
    "#Fit using Test Data"
   ]
  },
  {
   "cell_type": "code",
   "execution_count": null,
   "metadata": {
    "cell_id": "a5ceaaa9a21e40f5b6ef7c5baff2a94b",
    "deepnote_cell_type": "code",
    "execution_context_id": "668bbe48-be67-49b4-8429-5deaaf549af6",
    "execution_millis": 0,
    "execution_start": 1732154844545,
    "source_hash": "9ff3fc79"
   },
   "outputs": [],
   "source": [
    "test_town_dummies = pd.get_dummies(test_df.town, prefix='town',drop_first=True)\n",
    "test_storey_dummies = pd.get_dummies(test_df.storey_range, prefix='storey_range',drop_first=True)\n"
   ]
  },
  {
   "cell_type": "code",
   "execution_count": null,
   "metadata": {
    "cell_id": "9827d49ecb2e49cfa40e41fddcb70235",
    "deepnote_cell_type": "code",
    "execution_context_id": "668bbe48-be67-49b4-8429-5deaaf549af6",
    "execution_millis": 0,
    "execution_start": 1732154844597,
    "source_hash": "22d4f2bd"
   },
   "outputs": [],
   "source": [
    "test_dummies = pd.concat([test_df, test_town_dummies, test_storey_dummies], axis=1)"
   ]
  },
  {
   "cell_type": "code",
   "execution_count": null,
   "metadata": {
    "cell_id": "7df9e6d9bcbd4f32b112073ac59aa32e",
    "deepnote_cell_type": "code",
    "execution_context_id": "668bbe48-be67-49b4-8429-5deaaf549af6",
    "execution_millis": 72,
    "execution_start": 1732154844649,
    "source_hash": "907ee625"
   },
   "outputs": [],
   "source": [
    "test_dummies.sample(n=5, random_state=1)"
   ]
  },
  {
   "cell_type": "code",
   "execution_count": null,
   "metadata": {
    "cell_id": "3e8a4008159e404a8c6ab7669cbb5e65",
    "deepnote_cell_type": "code",
    "execution_context_id": "668bbe48-be67-49b4-8429-5deaaf549af6",
    "execution_millis": 1,
    "execution_start": 1732154844773,
    "source_hash": "c48ad99d"
   },
   "outputs": [],
   "source": [
    "test_df.isnull().sum()[test_df.isnull().sum() > 0]"
   ]
  },
  {
   "cell_type": "code",
   "execution_count": null,
   "metadata": {
    "cell_id": "7ef8af21cc7b499b9ea5bd7ddfe74521",
    "deepnote_cell_type": "code",
    "execution_context_id": "668bbe48-be67-49b4-8429-5deaaf549af6",
    "execution_millis": 0,
    "execution_start": 1732154844825,
    "source_hash": "ce2a0653"
   },
   "outputs": [],
   "source": [
    "test_df.fillna(value = {'Mall_Within_500m': 0, 'Mall_Within_1km': 0, 'Mall_Within_2km': 0}, inplace = True)\n",
    "test_df.dropna(subset = ['Mall_Nearest_Distance'], inplace = True)\n",
    "test_df.fillna(value = {'Hawker_Within_500m': 0, 'Hawker_Within_1km': 0, 'Hawker_Within_2km': 0}, inplace = True)"
   ]
  },
  {
   "cell_type": "code",
   "execution_count": null,
   "metadata": {
    "cell_id": "cd1cc53be4ea4244bebc48e3a459046e",
    "deepnote_cell_type": "code",
    "execution_context_id": "668bbe48-be67-49b4-8429-5deaaf549af6",
    "execution_millis": 1,
    "execution_start": 1732154844873,
    "source_hash": "c48ad99d"
   },
   "outputs": [],
   "source": [
    "test_df.isnull().sum()[test_df.isnull().sum() > 0]"
   ]
  },
  {
   "cell_type": "code",
   "execution_count": null,
   "metadata": {
    "cell_id": "f1f1a7c21c8847e0ba0bb8b8f21e4120",
    "deepnote_cell_type": "code",
    "execution_context_id": "668bbe48-be67-49b4-8429-5deaaf549af6",
    "execution_millis": 0,
    "execution_start": 1732154844921,
    "source_hash": "946f6e37"
   },
   "outputs": [],
   "source": [
    "expected_storey_range_cols = ['storey_range_31 TO 35', 'storey_range_36 TO 40']\n",
    "\n",
    "# Add missing storey range columns if they are not present in test_dummies\n",
    "for col in expected_storey_range_cols:\n",
    "    if col not in test_dummies.columns:\n",
    "        test_dummies[col] = False  # Assuming default value is False"
   ]
  },
  {
   "cell_type": "code",
   "execution_count": null,
   "metadata": {
    "cell_id": "b24b3165361745399e0f2322d399a0b2",
    "deepnote_cell_type": "code",
    "execution_context_id": "668bbe48-be67-49b4-8429-5deaaf549af6",
    "execution_millis": 50,
    "execution_start": 1732154844969,
    "source_hash": "42ee1e18"
   },
   "outputs": [],
   "source": [
    "test_dummies"
   ]
  },
  {
   "cell_type": "code",
   "execution_count": null,
   "metadata": {
    "cell_id": "54d42d661a45473d8314af7199d6d9d1",
    "deepnote_cell_type": "code",
    "execution_context_id": "668bbe48-be67-49b4-8429-5deaaf549af6",
    "execution_millis": 1448,
    "execution_start": 1732154845062,
    "source_hash": "d6a5f34e"
   },
   "outputs": [],
   "source": [
    "\n",
    "X = train_dummies[feature_cols_1]\n",
    "y = train_dummies['resale_price']\n",
    "X_kaggle = test_dummies[feature_cols_1]\n",
    "\n",
    "X_train, X_test, y_train, y_test = train_test_split(X, y,random_state=123)\n",
    "\n",
    "scaler = StandardScaler()\n",
    "X_train = scaler.fit_transform(X_train)\n",
    "X_test = scaler.transform(X_test)\n",
    "\n",
    "linreg = LinearRegression()\n",
    "linreg.fit(X_train, y_train)\n",
    "\n",
    "y_pred = linreg.predict(X_test)\n",
    "\n"
   ]
  },
  {
   "cell_type": "code",
   "execution_count": null,
   "metadata": {
    "cell_id": "28db6f617e104c6f9befbb89f9639a4f",
    "deepnote_cell_type": "code",
    "execution_context_id": "668bbe48-be67-49b4-8429-5deaaf549af6",
    "execution_millis": 1,
    "execution_start": 1732154846565,
    "source_hash": "ba549d12"
   },
   "outputs": [],
   "source": [
    "y_pred"
   ]
  },
  {
   "cell_type": "code",
   "execution_count": null,
   "metadata": {
    "cell_id": "ddf3ae961a864f23a9400e89afb10bc0",
    "deepnote_cell_type": "code",
    "execution_context_id": "668bbe48-be67-49b4-8429-5deaaf549af6",
    "execution_millis": 0,
    "execution_start": 1732154846645,
    "source_hash": "b0f85eda"
   },
   "outputs": [],
   "source": [
    "X_kaggle = scaler.transform(X_kaggle)\n",
    "\n",
    "y_kaggle = linreg.predict(X_kaggle)"
   ]
  },
  {
   "cell_type": "code",
   "execution_count": null,
   "metadata": {
    "cell_id": "a89721a0e3574f0ea889ad8d0661ac15",
    "deepnote_cell_type": "code",
    "execution_context_id": "668bbe48-be67-49b4-8429-5deaaf549af6",
    "execution_millis": 1,
    "execution_start": 1732154846749,
    "source_hash": "12ce5aed"
   },
   "outputs": [],
   "source": [
    "y_kaggle"
   ]
  },
  {
   "cell_type": "code",
   "execution_count": null,
   "metadata": {
    "cell_id": "f9418c7f2fd24a948820464865836477",
    "deepnote_cell_type": "code",
    "execution_context_id": "668bbe48-be67-49b4-8429-5deaaf549af6",
    "execution_millis": 0,
    "execution_start": 1732154846849,
    "source_hash": "6513e435"
   },
   "outputs": [],
   "source": [
    "# Slicing ID column first\n",
    "test_id = test_dummies['id']"
   ]
  },
  {
   "cell_type": "code",
   "execution_count": null,
   "metadata": {
    "cell_id": "246affc385a54aa19336b0109c5e27c4",
    "deepnote_cell_type": "code",
    "execution_context_id": "668bbe48-be67-49b4-8429-5deaaf549af6",
    "execution_millis": 1,
    "execution_start": 1732154846897,
    "source_hash": "e03c70ac"
   },
   "outputs": [],
   "source": [
    "# Creating a DataFrame from the test id that was sliced earlier\n",
    "result = pd.DataFrame(test_id)\n",
    "result"
   ]
  },
  {
   "cell_type": "code",
   "execution_count": null,
   "metadata": {
    "cell_id": "660054b3dd4f4bc6909c65adb21bf906",
    "deepnote_cell_type": "code",
    "execution_context_id": "668bbe48-be67-49b4-8429-5deaaf549af6",
    "execution_millis": 1,
    "execution_start": 1732154846945,
    "source_hash": "2de62247"
   },
   "outputs": [],
   "source": [
    "# Adding the prediction from test data alongside the id\n",
    "result['Predicted'] = y_kaggle\n",
    "result"
   ]
  },
  {
   "cell_type": "code",
   "execution_count": null,
   "metadata": {
    "cell_id": "5c81ec707f9b40ea8c227acf2d750d34",
    "deepnote_cell_type": "code",
    "execution_context_id": "668bbe48-be67-49b4-8429-5deaaf549af6",
    "execution_millis": 264,
    "execution_start": 1732154846997,
    "source_hash": "ac1b259c"
   },
   "outputs": [],
   "source": [
    "# Save the csv file to an existing directory in the current environment\n",
    "result.to_csv('result_kaggle.csv', index = False)"
   ]
  },
  {
   "cell_type": "markdown",
   "metadata": {
    "cell_id": "1cd73177b5e54d8088708c2f7534ca43",
    "deepnote_cell_type": "text-cell-h1",
    "formattedRanges": []
   },
   "source": [
    "#Forecasting"
   ]
  },
  {
   "cell_type": "code",
   "execution_count": null,
   "metadata": {
    "cell_id": "69cef11414224554a01c00aadc31cc7a",
    "deepnote_cell_type": "code",
    "execution_context_id": "668bbe48-be67-49b4-8429-5deaaf549af6",
    "execution_millis": 1,
    "execution_start": 1732154847313,
    "source_hash": "f6635ca9"
   },
   "outputs": [],
   "source": [
    "train_dummies['Tranc_YearMonth'].sort_values()"
   ]
  },
  {
   "cell_type": "code",
   "execution_count": null,
   "metadata": {
    "cell_id": "f40513f568b04304be9190105bfff16c",
    "deepnote_cell_type": "code",
    "execution_context_id": "668bbe48-be67-49b4-8429-5deaaf549af6",
    "execution_millis": 83,
    "execution_start": 1732154847361,
    "source_hash": "5176ae74"
   },
   "outputs": [],
   "source": [
    "train_dummies.head()"
   ]
  },
  {
   "cell_type": "code",
   "execution_count": null,
   "metadata": {
    "cell_id": "cd8447885ee54f69ad8b79ce4a8c83da",
    "deepnote_cell_type": "code",
    "execution_context_id": "668bbe48-be67-49b4-8429-5deaaf549af6",
    "execution_millis": 25,
    "execution_start": 1732154847493,
    "source_hash": "b439c6d5"
   },
   "outputs": [],
   "source": [
    "train_forecast = train_dummies.set_index(\"Tranc_YearMonth\")"
   ]
  },
  {
   "cell_type": "code",
   "execution_count": null,
   "metadata": {
    "cell_id": "29a1aa54dc4144d498471048f4c236c6",
    "deepnote_cell_type": "code",
    "execution_context_id": "668bbe48-be67-49b4-8429-5deaaf549af6",
    "execution_millis": 90,
    "execution_start": 1732154847569,
    "source_hash": "e607bfb0"
   },
   "outputs": [],
   "source": [
    "train_forecast.head()"
   ]
  },
  {
   "cell_type": "code",
   "execution_count": null,
   "metadata": {
    "cell_id": "88e8ad4ac78f44ffab5765f3303de7f2",
    "deepnote_cell_type": "code",
    "execution_context_id": "668bbe48-be67-49b4-8429-5deaaf549af6",
    "execution_millis": 295,
    "execution_start": 1732154847701,
    "source_hash": "ddf340d0"
   },
   "outputs": [],
   "source": [
    "monthly_sales = train_forecast.resample(\"M\")[\"resale_price\"].mean()\n",
    "monthly_sales.head()"
   ]
  },
  {
   "cell_type": "code",
   "execution_count": null,
   "metadata": {
    "cell_id": "9f8ed45c396d43b19a3c3d6888131bf7",
    "deepnote_cell_type": "code",
    "execution_context_id": "668bbe48-be67-49b4-8429-5deaaf549af6",
    "execution_millis": 752,
    "execution_start": 1732154848046,
    "source_hash": "8409ba4"
   },
   "outputs": [],
   "source": [
    "train_forecast[\"resale_price\"].plot();"
   ]
  },
  {
   "cell_type": "code",
   "execution_count": null,
   "metadata": {
    "cell_id": "b8689d6d18bc43f0a5b672882e9a7161",
    "deepnote_cell_type": "code",
    "execution_context_id": "668bbe48-be67-49b4-8429-5deaaf549af6",
    "execution_millis": 1,
    "execution_start": 1732154848849,
    "source_hash": "d939d8ed"
   },
   "outputs": [],
   "source": [
    "train = monthly_sales[\"2012\":\"2019\"].astype(float) # 2 full years\n",
    "test = monthly_sales[\"2020\":\"2021\"].astype(float) # most of 2015\n",
    "\n",
    "train.head()"
   ]
  },
  {
   "cell_type": "code",
   "execution_count": null,
   "metadata": {
    "cell_id": "dcd57773cc34495185426b83badb7682",
    "deepnote_cell_type": "code",
    "execution_context_id": "668bbe48-be67-49b4-8429-5deaaf549af6",
    "execution_millis": 236,
    "execution_start": 1732154848901,
    "source_hash": "2a15ea2d"
   },
   "outputs": [],
   "source": [
    "train.plot(label=\"train\")\n",
    "test.plot(label=\"test\")\n",
    "plt.legend()\n",
    "plt.show()"
   ]
  },
  {
   "cell_type": "code",
   "execution_count": null,
   "metadata": {
    "cell_id": "cca2e099e813483985a614e8f9d47962",
    "deepnote_cell_type": "code",
    "execution_context_id": "668bbe48-be67-49b4-8429-5deaaf549af6",
    "execution_millis": 0,
    "execution_start": 1732154849185,
    "source_hash": "b0c0561f"
   },
   "outputs": [],
   "source": [
    "from statsmodels.tsa.arima.model import ARIMA\n",
    "\n",
    "#order=(1, 0, 1) = p,d,q\n",
    "\n",
    "model = ARIMA(train, order=(10, 0, 10)).fit()\n",
    "\n",
    "y_pred = model.predict(start=\"2020-01\", end=\"2021-04\")"
   ]
  },
  {
   "cell_type": "code",
   "execution_count": null,
   "metadata": {
    "cell_id": "0dd1ed8c4cf14b2b8455fa8352832e50",
    "deepnote_cell_type": "code",
    "deepnote_to_be_reexecuted": true,
    "execution_context_id": "0a753a91-510d-4242-a113-cf68bf17500f",
    "execution_millis": 382,
    "execution_start": 1732002510275,
    "source_hash": "eda92039"
   },
   "outputs": [],
   "source": [
    "# Define the 'ax' variable when plotting\n",
    "fig, ax = plt.subplots()\n",
    "\n",
    "train.plot(label=\"train\", ax=ax)\n",
    "test.plot(label=\"test\", ax=ax)\n",
    "y_pred.plot(label=\"ARIMA forecast\", ax=ax)\n",
    "ax.legend()\n",
    "\n",
    "plt.show()"
   ]
  },
  {
   "cell_type": "markdown",
   "metadata": {
    "created_in_deepnote_cell": true,
    "deepnote_cell_type": "markdown"
   },
   "source": [
    "<a style='text-decoration:none;line-height:16px;display:flex;color:#5B5B62;padding:10px;justify-content:end;' href='https://deepnote.com?utm_source=created-in-deepnote-cell&projectId=8d8e525f-edc3-44db-8702-1e50c5f3157c' target=\"_blank\">\n",
    "<img alt='Created in deepnote.com' style='display:inline;max-height:16px;margin:0px;margin-right:7.5px;' src='data:image/svg+xml;base64,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' > </img>\n",
    "Created in <span style='font-weight:600;margin-left:4px;'>Deepnote</span></a>"
   ]
  }
 ],
 "metadata": {
  "deepnote_notebook_id": "3ef07090f2ea4480a0f47d2666958209",
  "kernelspec": {
   "display_name": "Python 3 (ipykernel)",
   "language": "python",
   "name": "python3"
  },
  "language_info": {
   "codemirror_mode": {
    "name": "ipython",
    "version": 3
   },
   "file_extension": ".py",
   "mimetype": "text/x-python",
   "name": "python",
   "nbconvert_exporter": "python",
   "pygments_lexer": "ipython3",
   "version": "3.12.3"
  }
 },
 "nbformat": 4,
 "nbformat_minor": 4
}
